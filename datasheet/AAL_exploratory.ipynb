{
 "cells": [
  {
   "cell_type": "code",
   "execution_count": 1,
   "metadata": {
    "collapsed": false
   },
   "outputs": [
    {
     "name": "stderr",
     "output_type": "stream",
     "text": [
      "oro.nifti 0.5.2\n"
     ]
    }
   ],
   "source": [
    "library(oro.nifti)"
   ]
  },
  {
   "cell_type": "code",
   "execution_count": 2,
   "metadata": {
    "collapsed": true
   },
   "outputs": [],
   "source": [
    "mni = readNIfTI(\"~/felix_senior_thesis_2015-16/data/MNI152_T1_2mm_brain.nii.gz\")\n",
    "aal = readNIfTI(\"~/felix_senior_thesis_2015-16/data/AAL_MNI_2mm.nii\")"
   ]
  },
  {
   "cell_type": "code",
   "execution_count": 3,
   "metadata": {
    "collapsed": true
   },
   "outputs": [],
   "source": [
    "mni = mni@.Data\n",
    "aal = aal@.Data"
   ]
  },
  {
   "cell_type": "markdown",
   "metadata": {},
   "source": [
    "# Some exploring of AAL"
   ]
  },
  {
   "cell_type": "code",
   "execution_count": 4,
   "metadata": {
    "collapsed": false
   },
   "outputs": [
    {
     "data": {
      "text/html": [
       "117"
      ],
      "text/latex": [
       "117"
      ],
      "text/markdown": [
       "117"
      ],
      "text/plain": [
       "[1] 117"
      ]
     },
     "execution_count": 4,
     "metadata": {},
     "output_type": "execute_result"
    }
   ],
   "source": [
    "length(unique(as.numeric(aal)))"
   ]
  },
  {
   "cell_type": "code",
   "execution_count": 5,
   "metadata": {
    "collapsed": false
   },
   "outputs": [
    {
     "data": {
      "text/html": [
       "<dl class=dl-horizontal>\n",
       "\t<dt>0%</dt>\n",
       "\t\t<dd>0</dd>\n",
       "\t<dt>25%</dt>\n",
       "\t\t<dd>0</dd>\n",
       "\t<dt>50%</dt>\n",
       "\t\t<dd>0</dd>\n",
       "\t<dt>75%</dt>\n",
       "\t\t<dd>0</dd>\n",
       "\t<dt>100%</dt>\n",
       "\t\t<dd>9170</dd>\n",
       "</dl>\n"
      ],
      "text/latex": [
       "\\begin{description*}\n",
       "\\item[0%] 0\n",
       "\\item[25%] 0\n",
       "\\item[50%] 0\n",
       "\\item[75%] 0\n",
       "\\item[100%] 9170\n",
       "\\end{description*}\n"
      ],
      "text/markdown": [
       "0%\n",
       ":   025%\n",
       ":   050%\n",
       ":   075%\n",
       ":   0100%\n",
       ":   9170\n",
       "\n"
      ],
      "text/plain": [
       "  0%  25%  50%  75% 100% \n",
       "   0    0    0    0 9170 "
      ]
     },
     "execution_count": 5,
     "metadata": {},
     "output_type": "execute_result"
    }
   ],
   "source": [
    "quantile(aal)"
   ]
  },
  {
   "cell_type": "code",
   "execution_count": 6,
   "metadata": {
    "collapsed": false
   },
   "outputs": [
    {
     "data": {
      "text/html": [
       "<dl class=dl-horizontal>\n",
       "\t<dt>9100</dt>\n",
       "\t\t<dd>53</dd>\n",
       "\t<dt>9170</dt>\n",
       "\t\t<dd>112</dd>\n",
       "\t<dt>9021</dt>\n",
       "\t\t<dd>136</dd>\n",
       "\t<dt>9081</dt>\n",
       "\t\t<dd>144</dd>\n",
       "\t<dt>9082</dt>\n",
       "\t\t<dd>159</dd>\n",
       "\t<dt>9160</dt>\n",
       "\t\t<dd>174</dd>\n",
       "\t<dt>9140</dt>\n",
       "\t\t<dd>194</dd>\n",
       "\t<dt>9022</dt>\n",
       "\t\t<dd>207</dd>\n",
       "\t<dt>4201</dt>\n",
       "\t\t<dd>220</dd>\n",
       "\t<dt>8101</dt>\n",
       "\t\t<dd>225</dd>\n",
       "\t<dt>9110</dt>\n",
       "\t\t<dd>228</dd>\n",
       "\t<dt>9150</dt>\n",
       "\t\t<dd>243</dd>\n",
       "\t<dt>4202</dt>\n",
       "\t\t<dd>248</dd>\n",
       "\t<dt>8102</dt>\n",
       "\t\t<dd>249</dd>\n",
       "\t<dt>2501</dt>\n",
       "\t\t<dd>280</dd>\n",
       "\t<dt>7022</dt>\n",
       "\t\t<dd>280</dd>\n",
       "\t<dt>2502</dt>\n",
       "\t\t<dd>289</dd>\n",
       "\t<dt>7021</dt>\n",
       "\t\t<dd>293</dd>\n",
       "\t<dt>4022</dt>\n",
       "\t\t<dd>335</dd>\n",
       "\t<dt>9130</dt>\n",
       "\t\t<dd>371</dd>\n",
       "\t<dt>4021</dt>\n",
       "\t\t<dd>463</dd>\n",
       "\t<dt>9052</dt>\n",
       "\t\t<dd>534</dd>\n",
       "\t<dt>9051</dt>\n",
       "\t\t<dd>585</dd>\n",
       "\t<dt>9120</dt>\n",
       "\t\t<dd>665</dd>\n",
       "\t<dt>2611</dt>\n",
       "\t\t<dd>719</dd>\n",
       "\t<dt>2702</dt>\n",
       "\t\t<dd>745</dd>\n",
       "\t<dt>8211</dt>\n",
       "\t\t<dd>755</dd>\n",
       "\t<dt>9072</dt>\n",
       "\t\t<dd>809</dd>\n",
       "\t<dt>6402</dt>\n",
       "\t\t<dd>836</dd>\n",
       "\t<dt>2701</dt>\n",
       "\t\t<dd>852</dd>\n",
       "\t<dt>2612</dt>\n",
       "\t\t<dd>856</dd>\n",
       "\t<dt>9032</dt>\n",
       "\t\t<dd>861</dd>\n",
       "\t<dt>9071</dt>\n",
       "\t\t<dd>869</dd>\n",
       "\t<dt>2211</dt>\n",
       "\t\t<dd>888</dd>\n",
       "\t<dt>4101</dt>\n",
       "\t\t<dd>932</dd>\n",
       "\t<dt>5301</dt>\n",
       "\t\t<dd>941</dd>\n",
       "\t<dt>4102</dt>\n",
       "\t\t<dd>946</dd>\n",
       "\t<dt>7001</dt>\n",
       "\t\t<dd>962</dd>\n",
       "\t<dt>2111</dt>\n",
       "\t\t<dd>963</dd>\n",
       "\t<dt>4111</dt>\n",
       "\t\t<dd>978</dd>\n",
       "\t<dt>5302</dt>\n",
       "\t\t<dd>989</dd>\n",
       "\t<dt>2331</dt>\n",
       "\t\t<dd>990</dd>\n",
       "\t<dt>7002</dt>\n",
       "\t\t<dd>994</dd>\n",
       "\t<dt>2112</dt>\n",
       "\t\t<dd>997</dd>\n",
       "\t<dt>7011</dt>\n",
       "\t\t<dd>1009</dd>\n",
       "\t<dt>2212</dt>\n",
       "\t\t<dd>1015</dd>\n",
       "\t<dt>2301</dt>\n",
       "\t\t<dd>1038</dd>\n",
       "\t<dt>7102</dt>\n",
       "\t\t<dd>1057</dd>\n",
       "\t<dt>7012</dt>\n",
       "\t\t<dd>1064</dd>\n",
       "\t<dt>7101</dt>\n",
       "\t\t<dd>1100</dd>\n",
       "\t<dt>9031</dt>\n",
       "\t\t<dd>1125</dd>\n",
       "\t<dt>4112</dt>\n",
       "\t\t<dd>1132</dd>\n",
       "\t<dt>6221</dt>\n",
       "\t\t<dd>1173</dd>\n",
       "\t<dt>8212</dt>\n",
       "\t\t<dd>1187</dd>\n",
       "\t<dt>6211</dt>\n",
       "\t\t<dd>1256</dd>\n",
       "\t<dt>8121</dt>\n",
       "\t\t<dd>1285</dd>\n",
       "\t<dt>4002</dt>\n",
       "\t\t<dd>1313</dd>\n",
       "\t<dt>2332</dt>\n",
       "\t\t<dd>1331</dd>\n",
       "\t<dt>8122</dt>\n",
       "\t\t<dd>1338</dd>\n",
       "\t<dt>6202</dt>\n",
       "\t\t<dd>1345</dd>\n",
       "\t<dt>6401</dt>\n",
       "\t\t<dd>1349</dd>\n",
       "\t<dt>5101</dt>\n",
       "\t\t<dd>1366</dd>\n",
       "\t<dt>2302</dt>\n",
       "\t\t<dd>1399</dd>\n",
       "\t<dt>4001</dt>\n",
       "\t\t<dd>1400</dd>\n",
       "\t<dt>5102</dt>\n",
       "\t\t<dd>1413</dd>\n",
       "\t<dt>5012</dt>\n",
       "\t\t<dd>1424</dd>\n",
       "\t<dt>5011</dt>\n",
       "\t\t<dd>1526</dd>\n",
       "\t<dt>2321</dt>\n",
       "\t\t<dd>1690</dd>\n",
       "\t<dt>9041</dt>\n",
       "\t\t<dd>1694</dd>\n",
       "\t<dt>2322</dt>\n",
       "\t\t<dd>1707</dd>\n",
       "\t<dt>6222</dt>\n",
       "\t\t<dd>1752</dd>\n",
       "\t<dt>3002</dt>\n",
       "\t\t<dd>1770</dd>\n",
       "\t<dt>9042</dt>\n",
       "\t\t<dd>1795</dd>\n",
       "\t<dt>3001</dt>\n",
       "\t\t<dd>1858</dd>\n",
       "\t<dt>5002</dt>\n",
       "\t\t<dd>1861</dd>\n",
       "\t<dt>9061</dt>\n",
       "\t\t<dd>1887</dd>\n",
       "\t<dt>9011</dt>\n",
       "\t\t<dd>1894</dd>\n",
       "\t<dt>4011</dt>\n",
       "\t\t<dd>1941</dd>\n",
       "\t<dt>6212</dt>\n",
       "\t\t<dd>1974</dd>\n",
       "\t<dt>6101</dt>\n",
       "\t\t<dd>2065</dd>\n",
       "\t<dt>5021</dt>\n",
       "\t\t<dd>2095</dd>\n",
       "\t<dt>5202</dt>\n",
       "\t\t<dd>2098</dd>\n",
       "\t<dt>9012</dt>\n",
       "\t\t<dd>2117</dd>\n",
       "\t<dt>2602</dt>\n",
       "\t\t<dd>2134</dd>\n",
       "\t<dt>2401</dt>\n",
       "\t\t<dd>2147</dd>\n",
       "\t<dt>2312</dt>\n",
       "\t\t<dd>2151</dd>\n",
       "\t<dt>4012</dt>\n",
       "\t\t<dd>2203</dd>\n",
       "\t<dt>6102</dt>\n",
       "\t\t<dd>2222</dd>\n",
       "\t<dt>5001</dt>\n",
       "\t\t<dd>2258</dd>\n",
       "\t<dt>8111</dt>\n",
       "\t\t<dd>2296</dd>\n",
       "\t<dt>5022</dt>\n",
       "\t\t<dd>2300</dd>\n",
       "\t<dt>9062</dt>\n",
       "\t\t<dd>2308</dd>\n",
       "\t<dt>5401</dt>\n",
       "\t\t<dd>2310</dd>\n",
       "\t<dt>2402</dt>\n",
       "\t\t<dd>2371</dd>\n",
       "\t<dt>6201</dt>\n",
       "\t\t<dd>2447</dd>\n",
       "\t<dt>5402</dt>\n",
       "\t\t<dd>2518</dd>\n",
       "\t<dt>2311</dt>\n",
       "\t\t<dd>2529</dd>\n",
       "\t<dt>9001</dt>\n",
       "\t\t<dd>2603</dd>\n",
       "\t<dt>9002</dt>\n",
       "\t\t<dd>2648</dd>\n",
       "\t<dt>2601</dt>\n",
       "\t\t<dd>2992</dd>\n",
       "\t<dt>8112</dt>\n",
       "\t\t<dd>3141</dd>\n",
       "\t<dt>8301</dt>\n",
       "\t\t<dd>3200</dd>\n",
       "\t<dt>6302</dt>\n",
       "\t\t<dd>3265</dd>\n",
       "\t<dt>5201</dt>\n",
       "\t\t<dd>3270</dd>\n",
       "\t<dt>2002</dt>\n",
       "\t\t<dd>3381</dd>\n",
       "\t<dt>2001</dt>\n",
       "\t\t<dd>3526</dd>\n",
       "\t<dt>6301</dt>\n",
       "\t\t<dd>3528</dd>\n",
       "\t<dt>8302</dt>\n",
       "\t\t<dd>3557</dd>\n",
       "\t<dt>2101</dt>\n",
       "\t\t<dd>3599</dd>\n",
       "\t<dt>6002</dt>\n",
       "\t\t<dd>3823</dd>\n",
       "\t<dt>6001</dt>\n",
       "\t\t<dd>3892</dd>\n",
       "\t<dt>2102</dt>\n",
       "\t\t<dd>4056</dd>\n",
       "\t<dt>8202</dt>\n",
       "\t\t<dd>4409</dd>\n",
       "\t<dt>2201</dt>\n",
       "\t\t<dd>4863</dd>\n",
       "\t<dt>8201</dt>\n",
       "\t\t<dd>4942</dd>\n",
       "\t<dt>2202</dt>\n",
       "\t\t<dd>5104</dd>\n",
       "\t<dt>0</dt>\n",
       "\t\t<dd>717224</dd>\n",
       "</dl>\n"
      ],
      "text/latex": [
       "\\begin{description*}\n",
       "\\item[9100] 53\n",
       "\\item[9170] 112\n",
       "\\item[9021] 136\n",
       "\\item[9081] 144\n",
       "\\item[9082] 159\n",
       "\\item[9160] 174\n",
       "\\item[9140] 194\n",
       "\\item[9022] 207\n",
       "\\item[4201] 220\n",
       "\\item[8101] 225\n",
       "\\item[9110] 228\n",
       "\\item[9150] 243\n",
       "\\item[4202] 248\n",
       "\\item[8102] 249\n",
       "\\item[2501] 280\n",
       "\\item[7022] 280\n",
       "\\item[2502] 289\n",
       "\\item[7021] 293\n",
       "\\item[4022] 335\n",
       "\\item[9130] 371\n",
       "\\item[4021] 463\n",
       "\\item[9052] 534\n",
       "\\item[9051] 585\n",
       "\\item[9120] 665\n",
       "\\item[2611] 719\n",
       "\\item[2702] 745\n",
       "\\item[8211] 755\n",
       "\\item[9072] 809\n",
       "\\item[6402] 836\n",
       "\\item[2701] 852\n",
       "\\item[2612] 856\n",
       "\\item[9032] 861\n",
       "\\item[9071] 869\n",
       "\\item[2211] 888\n",
       "\\item[4101] 932\n",
       "\\item[5301] 941\n",
       "\\item[4102] 946\n",
       "\\item[7001] 962\n",
       "\\item[2111] 963\n",
       "\\item[4111] 978\n",
       "\\item[5302] 989\n",
       "\\item[2331] 990\n",
       "\\item[7002] 994\n",
       "\\item[2112] 997\n",
       "\\item[7011] 1009\n",
       "\\item[2212] 1015\n",
       "\\item[2301] 1038\n",
       "\\item[7102] 1057\n",
       "\\item[7012] 1064\n",
       "\\item[7101] 1100\n",
       "\\item[9031] 1125\n",
       "\\item[4112] 1132\n",
       "\\item[6221] 1173\n",
       "\\item[8212] 1187\n",
       "\\item[6211] 1256\n",
       "\\item[8121] 1285\n",
       "\\item[4002] 1313\n",
       "\\item[2332] 1331\n",
       "\\item[8122] 1338\n",
       "\\item[6202] 1345\n",
       "\\item[6401] 1349\n",
       "\\item[5101] 1366\n",
       "\\item[2302] 1399\n",
       "\\item[4001] 1400\n",
       "\\item[5102] 1413\n",
       "\\item[5012] 1424\n",
       "\\item[5011] 1526\n",
       "\\item[2321] 1690\n",
       "\\item[9041] 1694\n",
       "\\item[2322] 1707\n",
       "\\item[6222] 1752\n",
       "\\item[3002] 1770\n",
       "\\item[9042] 1795\n",
       "\\item[3001] 1858\n",
       "\\item[5002] 1861\n",
       "\\item[9061] 1887\n",
       "\\item[9011] 1894\n",
       "\\item[4011] 1941\n",
       "\\item[6212] 1974\n",
       "\\item[6101] 2065\n",
       "\\item[5021] 2095\n",
       "\\item[5202] 2098\n",
       "\\item[9012] 2117\n",
       "\\item[2602] 2134\n",
       "\\item[2401] 2147\n",
       "\\item[2312] 2151\n",
       "\\item[4012] 2203\n",
       "\\item[6102] 2222\n",
       "\\item[5001] 2258\n",
       "\\item[8111] 2296\n",
       "\\item[5022] 2300\n",
       "\\item[9062] 2308\n",
       "\\item[5401] 2310\n",
       "\\item[2402] 2371\n",
       "\\item[6201] 2447\n",
       "\\item[5402] 2518\n",
       "\\item[2311] 2529\n",
       "\\item[9001] 2603\n",
       "\\item[9002] 2648\n",
       "\\item[2601] 2992\n",
       "\\item[8112] 3141\n",
       "\\item[8301] 3200\n",
       "\\item[6302] 3265\n",
       "\\item[5201] 3270\n",
       "\\item[2002] 3381\n",
       "\\item[2001] 3526\n",
       "\\item[6301] 3528\n",
       "\\item[8302] 3557\n",
       "\\item[2101] 3599\n",
       "\\item[6002] 3823\n",
       "\\item[6001] 3892\n",
       "\\item[2102] 4056\n",
       "\\item[8202] 4409\n",
       "\\item[2201] 4863\n",
       "\\item[8201] 4942\n",
       "\\item[2202] 5104\n",
       "\\item[0] 717224\n",
       "\\end{description*}\n"
      ],
      "text/markdown": [
       "9100\n",
       ":   539170\n",
       ":   1129021\n",
       ":   1369081\n",
       ":   1449082\n",
       ":   1599160\n",
       ":   1749140\n",
       ":   1949022\n",
       ":   2074201\n",
       ":   2208101\n",
       ":   2259110\n",
       ":   2289150\n",
       ":   2434202\n",
       ":   2488102\n",
       ":   2492501\n",
       ":   2807022\n",
       ":   2802502\n",
       ":   2897021\n",
       ":   2934022\n",
       ":   3359130\n",
       ":   3714021\n",
       ":   4639052\n",
       ":   5349051\n",
       ":   5859120\n",
       ":   6652611\n",
       ":   7192702\n",
       ":   7458211\n",
       ":   7559072\n",
       ":   8096402\n",
       ":   8362701\n",
       ":   8522612\n",
       ":   8569032\n",
       ":   8619071\n",
       ":   8692211\n",
       ":   8884101\n",
       ":   9325301\n",
       ":   9414102\n",
       ":   9467001\n",
       ":   9622111\n",
       ":   9634111\n",
       ":   9785302\n",
       ":   9892331\n",
       ":   9907002\n",
       ":   9942112\n",
       ":   9977011\n",
       ":   10092212\n",
       ":   10152301\n",
       ":   10387102\n",
       ":   10577012\n",
       ":   10647101\n",
       ":   11009031\n",
       ":   11254112\n",
       ":   11326221\n",
       ":   11738212\n",
       ":   11876211\n",
       ":   12568121\n",
       ":   12854002\n",
       ":   13132332\n",
       ":   13318122\n",
       ":   13386202\n",
       ":   13456401\n",
       ":   13495101\n",
       ":   13662302\n",
       ":   13994001\n",
       ":   14005102\n",
       ":   14135012\n",
       ":   14245011\n",
       ":   15262321\n",
       ":   16909041\n",
       ":   16942322\n",
       ":   17076222\n",
       ":   17523002\n",
       ":   17709042\n",
       ":   17953001\n",
       ":   18585002\n",
       ":   18619061\n",
       ":   18879011\n",
       ":   18944011\n",
       ":   19416212\n",
       ":   19746101\n",
       ":   20655021\n",
       ":   20955202\n",
       ":   20989012\n",
       ":   21172602\n",
       ":   21342401\n",
       ":   21472312\n",
       ":   21514012\n",
       ":   22036102\n",
       ":   22225001\n",
       ":   22588111\n",
       ":   22965022\n",
       ":   23009062\n",
       ":   23085401\n",
       ":   23102402\n",
       ":   23716201\n",
       ":   24475402\n",
       ":   25182311\n",
       ":   25299001\n",
       ":   26039002\n",
       ":   26482601\n",
       ":   29928112\n",
       ":   31418301\n",
       ":   32006302\n",
       ":   32655201\n",
       ":   32702002\n",
       ":   33812001\n",
       ":   35266301\n",
       ":   35288302\n",
       ":   35572101\n",
       ":   35996002\n",
       ":   38236001\n",
       ":   38922102\n",
       ":   40568202\n",
       ":   44092201\n",
       ":   48638201\n",
       ":   49422202\n",
       ":   51040\n",
       ":   717224\n",
       "\n"
      ],
      "text/plain": [
       "\n",
       "  9100   9170   9021   9081   9082   9160   9140   9022   4201   8101   9110 \n",
       "    53    112    136    144    159    174    194    207    220    225    228 \n",
       "  9150   4202   8102   2501   7022   2502   7021   4022   9130   4021   9052 \n",
       "   243    248    249    280    280    289    293    335    371    463    534 \n",
       "  9051   9120   2611   2702   8211   9072   6402   2701   2612   9032   9071 \n",
       "   585    665    719    745    755    809    836    852    856    861    869 \n",
       "  2211   4101   5301   4102   7001   2111   4111   5302   2331   7002   2112 \n",
       "   888    932    941    946    962    963    978    989    990    994    997 \n",
       "  7011   2212   2301   7102   7012   7101   9031   4112   6221   8212   6211 \n",
       "  1009   1015   1038   1057   1064   1100   1125   1132   1173   1187   1256 \n",
       "  8121   4002   2332   8122   6202   6401   5101   2302   4001   5102   5012 \n",
       "  1285   1313   1331   1338   1345   1349   1366   1399   1400   1413   1424 \n",
       "  5011   2321   9041   2322   6222   3002   9042   3001   5002   9061   9011 \n",
       "  1526   1690   1694   1707   1752   1770   1795   1858   1861   1887   1894 \n",
       "  4011   6212   6101   5021   5202   9012   2602   2401   2312   4012   6102 \n",
       "  1941   1974   2065   2095   2098   2117   2134   2147   2151   2203   2222 \n",
       "  5001   8111   5022   9062   5401   2402   6201   5402   2311   9001   9002 \n",
       "  2258   2296   2300   2308   2310   2371   2447   2518   2529   2603   2648 \n",
       "  2601   8112   8301   6302   5201   2002   2001   6301   8302   2101   6002 \n",
       "  2992   3141   3200   3265   3270   3381   3526   3528   3557   3599   3823 \n",
       "  6001   2102   8202   2201   8201   2202      0 \n",
       "  3892   4056   4409   4863   4942   5104 717224 "
      ]
     },
     "execution_count": 6,
     "metadata": {},
     "output_type": "execute_result"
    }
   ],
   "source": [
    "sort(table(as.numeric(aal)))"
   ]
  },
  {
   "cell_type": "markdown",
   "metadata": {},
   "source": [
    "# Comparisions between MNI and AAL"
   ]
  },
  {
   "cell_type": "code",
   "execution_count": 7,
   "metadata": {
    "collapsed": false
   },
   "outputs": [
    {
     "data": {
      "text/html": [
       "<ol class=list-inline>\n",
       "\t<li>91</li>\n",
       "\t<li>109</li>\n",
       "\t<li>91</li>\n",
       "</ol>\n"
      ],
      "text/latex": [
       "\\begin{enumerate*}\n",
       "\\item 91\n",
       "\\item 109\n",
       "\\item 91\n",
       "\\end{enumerate*}\n"
      ],
      "text/markdown": [
       "1. 91\n",
       "2. 109\n",
       "3. 91\n",
       "\n",
       "\n"
      ],
      "text/plain": [
       "[1]  91 109  91"
      ]
     },
     "execution_count": 7,
     "metadata": {},
     "output_type": "execute_result"
    },
    {
     "data": {
      "text/html": [
       "<ol class=list-inline>\n",
       "\t<li>91</li>\n",
       "\t<li>109</li>\n",
       "\t<li>91</li>\n",
       "</ol>\n"
      ],
      "text/latex": [
       "\\begin{enumerate*}\n",
       "\\item 91\n",
       "\\item 109\n",
       "\\item 91\n",
       "\\end{enumerate*}\n"
      ],
      "text/markdown": [
       "1. 91\n",
       "2. 109\n",
       "3. 91\n",
       "\n",
       "\n"
      ],
      "text/plain": [
       "[1]  91 109  91"
      ]
     },
     "execution_count": 7,
     "metadata": {},
     "output_type": "execute_result"
    }
   ],
   "source": [
    "#check dimensions match\n",
    "dim(mni)\n",
    "dim(aal)"
   ]
  },
  {
   "cell_type": "code",
   "execution_count": 8,
   "metadata": {
    "collapsed": false
   },
   "outputs": [
    {
     "data": {
      "text/html": [
       "228453"
      ],
      "text/latex": [
       "228453"
      ],
      "text/markdown": [
       "228453"
      ],
      "text/plain": [
       "[1] 228453"
      ]
     },
     "execution_count": 8,
     "metadata": {},
     "output_type": "execute_result"
    },
    {
     "data": {
      "text/html": [
       "185405"
      ],
      "text/latex": [
       "185405"
      ],
      "text/markdown": [
       "185405"
      ],
      "text/plain": [
       "[1] 185405"
      ]
     },
     "execution_count": 8,
     "metadata": {},
     "output_type": "execute_result"
    }
   ],
   "source": [
    "#compare number of voxels\n",
    "length(which(mni!=0))\n",
    "length(which(aal!=0))"
   ]
  },
  {
   "cell_type": "code",
   "execution_count": 9,
   "metadata": {
    "collapsed": false
   },
   "outputs": [
    {
     "data": {
      "text/html": [
       "0.950956015209946"
      ],
      "text/latex": [
       "0.950956015209946"
      ],
      "text/markdown": [
       "0.950956015209946"
      ],
      "text/plain": [
       "[1] 0.950956"
      ]
     },
     "execution_count": 9,
     "metadata": {},
     "output_type": "execute_result"
    }
   ],
   "source": [
    "#although voxels are different, see if aal is contained in mni\n",
    "idx.mni = which(mni!=0)\n",
    "idx.aal = which(aal!=0)\n",
    "length(intersect(idx.aal, idx.mni))/length(idx.aal)\n",
    "\n",
    "#not exact match..."
   ]
  },
  {
   "cell_type": "code",
   "execution_count": 10,
   "metadata": {
    "collapsed": false
   },
   "outputs": [
    {
     "data": {
      "text/html": [
       "0.771764870673618"
      ],
      "text/latex": [
       "0.771764870673618"
      ],
      "text/markdown": [
       "0.771764870673618"
      ],
      "text/plain": [
       "[1] 0.7717649"
      ]
     },
     "execution_count": 10,
     "metadata": {},
     "output_type": "execute_result"
    }
   ],
   "source": [
    "#how about the other way?\n",
    "length(intersect(idx.aal, idx.mni))/length(idx.mni)"
   ]
  },
  {
   "cell_type": "code",
   "execution_count": 11,
   "metadata": {
    "collapsed": false
   },
   "outputs": [
    {
     "data": {
      "text/html": [
       "176312"
      ],
      "text/latex": [
       "176312"
      ],
      "text/markdown": [
       "176312"
      ],
      "text/plain": [
       "[1] 176312"
      ]
     },
     "execution_count": 11,
     "metadata": {},
     "output_type": "execute_result"
    }
   ],
   "source": [
    "aal.mod = intersect(idx.aal, idx.mni)\n",
    "length(aal.mod)"
   ]
  },
  {
   "cell_type": "markdown",
   "metadata": {},
   "source": [
    "# Using the symmetric MNI brain"
   ]
  },
  {
   "cell_type": "code",
   "execution_count": 12,
   "metadata": {
    "collapsed": false
   },
   "outputs": [
    {
     "data": {
      "text/html": [
       "233305"
      ],
      "text/latex": [
       "233305"
      ],
      "text/markdown": [
       "233305"
      ],
      "text/plain": [
       "[1] 233305"
      ]
     },
     "execution_count": 12,
     "metadata": {},
     "output_type": "execute_result"
    }
   ],
   "source": [
    "mni.sym = readNIfTI(\"~/felix_senior_thesis_2015-16/data/MNI152_T1_2mm_brain_symmetric.nii.gz\")\n",
    "mni.sym = mni.sym@.Data\n",
    "idx.mni.sym = which(mni.sym != 0)\n",
    "length(idx.mni.sym)"
   ]
  },
  {
   "cell_type": "code",
   "execution_count": 13,
   "metadata": {
    "collapsed": false
   },
   "outputs": [
    {
     "data": {
      "text/html": [
       "0.959434750950622"
      ],
      "text/latex": [
       "0.959434750950622"
      ],
      "text/markdown": [
       "0.959434750950622"
      ],
      "text/plain": [
       "[1] 0.9594348"
      ]
     },
     "execution_count": 13,
     "metadata": {},
     "output_type": "execute_result"
    }
   ],
   "source": [
    "length(intersect(idx.aal, idx.mni.sym))/length(idx.aal)\n",
    "#also not a perfect match hm..."
   ]
  },
  {
   "cell_type": "code",
   "execution_count": null,
   "metadata": {
    "collapsed": true
   },
   "outputs": [],
   "source": []
  }
 ],
 "metadata": {
  "kernelspec": {
   "display_name": "R",
   "language": "R",
   "name": "ir"
  },
  "language_info": {
   "codemirror_mode": "r",
   "file_extension": ".r",
   "mimetype": "text/x-r-source",
   "name": "R",
   "pygments_lexer": "r",
   "version": "3.2.3"
  }
 },
 "nbformat": 4,
 "nbformat_minor": 0
}
